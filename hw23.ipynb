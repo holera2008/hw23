{
  "nbformat": 4,
  "nbformat_minor": 0,
  "metadata": {
    "colab": {
      "provenance": [],
      "authorship_tag": "ABX9TyMQICcH3yb0D1jn+0FYkf4U",
      "include_colab_link": true
    },
    "kernelspec": {
      "name": "python3",
      "display_name": "Python 3"
    },
    "language_info": {
      "name": "python"
    }
  },
  "cells": [
    {
      "cell_type": "markdown",
      "metadata": {
        "id": "view-in-github",
        "colab_type": "text"
      },
      "source": [
        "<a href=\"https://colab.research.google.com/github/holera2008/hw23/blob/main/hw23.ipynb\" target=\"_parent\"><img src=\"https://colab.research.google.com/assets/colab-badge.svg\" alt=\"Open In Colab\"/></a>"
      ]
    },
    {
      "cell_type": "code",
      "execution_count": 5,
      "metadata": {
        "id": "mtbOML-vlHlu"
      },
      "outputs": [],
      "source": [
        "#task1\n",
        "class Animal():\n",
        "  pass\n",
        "\n",
        "animal = Animal()"
      ]
    },
    {
      "cell_type": "code",
      "source": [
        "#task2\n",
        "class Animal():\n",
        "  nickname = ''\n",
        "  weight = 0\n",
        "  def say(self):\n",
        "    pass\n",
        "\n",
        "animal = Animal()"
      ],
      "metadata": {
        "id": "_WysltOrlTAc"
      },
      "execution_count": 4,
      "outputs": []
    },
    {
      "cell_type": "code",
      "source": [
        "#task3\n",
        "class Animal():\n",
        "  nickname = ''\n",
        "  weight = 10\n",
        "  def change_weight(self, new_weight):\n",
        "    self.weight = new_weight\n",
        "\n",
        "animal = Animal()\n",
        "animal.change_weight(12)\n",
        "print(animal.weight)"
      ],
      "metadata": {
        "colab": {
          "base_uri": "https://localhost:8080/"
        },
        "id": "RJmY1-KBlTM7",
        "outputId": "95e74025-043d-48ba-97f1-cb51717a0c3c"
      },
      "execution_count": 3,
      "outputs": [
        {
          "output_type": "stream",
          "name": "stdout",
          "text": [
            "12\n"
          ]
        }
      ]
    }
  ]
}